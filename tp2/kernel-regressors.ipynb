{
 "cells": [
  {
   "cell_type": "code",
   "execution_count": null,
   "metadata": {},
   "outputs": [],
   "source": []
  },
  {
   "cell_type": "markdown",
   "metadata": {},
   "source": [
    "$$\\mathcal{l}(\\beta) = \\sum\\limits_{i=1}^n y_ix_i^T\\beta - \\log(1+e^{x_i^T\\beta})$$"
   ]
  },
  {
   "cell_type": "markdown",
   "metadata": {},
   "source": [
    "$$\\nabla_\\beta \\mathcal{l}(\\beta) = y_ix_i - \\frac{x_ie^{x_i^T\\beta}}{1 + x_ie^{x_i^T\\beta}} = y_i(1-\\pi(x_i))$$"
   ]
  },
  {
   "cell_type": "markdown",
   "metadata": {},
   "source": []
  }
 ],
 "metadata": {
  "language_info": {
   "name": "python"
  }
 },
 "nbformat": 4,
 "nbformat_minor": 2
}
