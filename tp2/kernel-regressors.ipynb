{
 "cells": [
  {
   "cell_type": "code",
   "execution_count": null,
   "metadata": {},
   "outputs": [],
   "source": []
  },
  {
   "cell_type": "markdown",
   "metadata": {},
   "source": [
    "$$\\mathcal{l}(\\beta) = \\sum\\limits_{i=1}^n y_i\\beta^T x_i - \\log(1+e^{\\beta^T x_i})$$"
   ]
  },
  {
   "cell_type": "markdown",
   "metadata": {},
   "source": [
    "$$\\nabla_\\beta \\mathcal{l}(\\beta) = \\sum\\limits_{i=1}^n y_ix_i^T - \\frac{x_ie^{\\beta^T x_i}}{1 + x_ie^{\\beta^T x_i}} = \\sum\\limits_{i=1}^n x_i^T(y_i-\\pi(x_i))$$\n",
    "\n"
   ]
  },
  {
   "cell_type": "markdown",
   "metadata": {},
   "source": [
    "Ainsi:\n",
    "\n",
    "$$\\nabla_\\beta\\mathcal{l}(\\beta) = X^T(y - \\pi)$$"
   ]
  },
  {
   "cell_type": "markdown",
   "metadata": {},
   "source": [
    "$$\\nabla_\\beta (\\nabla_\\beta l(\\beta)) = \\nabla_\\beta \\sum\\limits_{i=1}^n [y_i - \\pi(x_i)]x_i = \\sum\\limits_{i=1}^n \\nabla_\\beta [y_i - \\pi(x_i)]x_i$$"
   ]
  },
  {
   "cell_type": "markdown",
   "metadata": {},
   "source": [
    "Ainsi:\n",
    "\n",
    "$$\\nabla_\\beta (\\nabla_\\beta l(\\beta)) = \\sum\\limits_{i=1}^n \\nabla_\\beta \\left[\\frac{1}{1 + e^{-\\beta^Tx_i}} \\right] x_i = \\sum\\limits_{i=1}^n \\left[\\frac{1}{1 + e^{-\\beta^Tx_i}} \\right]^2 e^{-\\beta^Tx_i} x_i^T x_i $$"
   ]
  },
  {
   "cell_type": "markdown",
   "metadata": {},
   "source": [
    "D'où:\n",
    "\n",
    "$$\\nabla_\\beta (\\nabla_\\beta l(\\beta)) = \\sum\\limits_{i=1}^n \\left[\\frac{e^{-\\beta^Tx_i}}{1 + e^{-\\beta^Tx_i}} \\right] \\left[\\frac{1}{1 + e^{-\\beta^Tx_i}} \\right] x_i^T x_i = \\sum\\limits_{i=1}^n \\pi(x_i)[1 - \\pi(x_i)] x_i^T x_i$$"
   ]
  },
  {
   "cell_type": "markdown",
   "metadata": {},
   "source": [
    "$$\\nabla_\\beta (\\nabla_\\beta l(\\beta)) = V$$"
   ]
  }
 ],
 "metadata": {
  "language_info": {
   "name": "python"
  }
 },
 "nbformat": 4,
 "nbformat_minor": 2
}
